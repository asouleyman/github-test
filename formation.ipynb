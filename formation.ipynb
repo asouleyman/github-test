{
 "cells": [
  {
   "cell_type": "markdown",
   "metadata": {},
   "source": [
    "### List operations"
   ]
  },
  {
   "cell_type": "code",
   "execution_count": 1,
   "metadata": {},
   "outputs": [],
   "source": [
    "liste = ['banana', 'apple', 'orange', 'mangue', 'cherry', 'ananas', 'melon', 'pasta', 'tomatos']"
   ]
  },
  {
   "cell_type": "code",
   "execution_count": 2,
   "metadata": {},
   "outputs": [],
   "source": [
    "liste.insert(2, 'oignon')"
   ]
  },
  {
   "cell_type": "code",
   "execution_count": 3,
   "metadata": {},
   "outputs": [],
   "source": [
    "liste.insert(3, 'watermelon')"
   ]
  },
  {
   "cell_type": "code",
   "execution_count": 4,
   "metadata": {},
   "outputs": [
    {
     "data": {
      "text/plain": [
       "['banana',\n",
       " 'apple',\n",
       " 'oignon',\n",
       " 'watermelon',\n",
       " 'orange',\n",
       " 'mangue',\n",
       " 'cherry',\n",
       " 'ananas',\n",
       " 'melon',\n",
       " 'pasta',\n",
       " 'tomatos']"
      ]
     },
     "execution_count": 4,
     "metadata": {},
     "output_type": "execute_result"
    }
   ],
   "source": [
    "liste"
   ]
  },
  {
   "cell_type": "code",
   "execution_count": 5,
   "metadata": {},
   "outputs": [],
   "source": [
    "idx_liste = [idx*2 for idx, _ in enumerate(liste) if idx%2 == 0]"
   ]
  },
  {
   "cell_type": "code",
   "execution_count": 6,
   "metadata": {},
   "outputs": [
    {
     "data": {
      "text/plain": [
       "[0, 4, 8, 12, 16, 20]"
      ]
     },
     "execution_count": 6,
     "metadata": {},
     "output_type": "execute_result"
    }
   ],
   "source": [
    "idx_liste"
   ]
  },
  {
   "cell_type": "code",
   "execution_count": 7,
   "metadata": {},
   "outputs": [],
   "source": [
    "liste.append('salade')"
   ]
  },
  {
   "cell_type": "code",
   "execution_count": 8,
   "metadata": {},
   "outputs": [],
   "source": [
    "liste.append('pattate')"
   ]
  },
  {
   "cell_type": "code",
   "execution_count": 9,
   "metadata": {},
   "outputs": [
    {
     "name": "stdout",
     "output_type": "stream",
     "text": [
      "13\n"
     ]
    }
   ],
   "source": [
    "print(len(liste))"
   ]
  },
  {
   "cell_type": "code",
   "execution_count": 10,
   "metadata": {},
   "outputs": [],
   "source": [
    "new_liste = ['Abdoul', 'Rachid', 'Souleymana', 'Ali', 'Marzouk', 'Farida', 'Khalifa', 'Nasifou', 'Said']"
   ]
  },
  {
   "cell_type": "code",
   "execution_count": 11,
   "metadata": {},
   "outputs": [],
   "source": [
    "liste.extend(new_liste)"
   ]
  },
  {
   "cell_type": "code",
   "execution_count": 12,
   "metadata": {},
   "outputs": [
    {
     "name": "stdout",
     "output_type": "stream",
     "text": [
      "['banana', 'apple', 'oignon', 'watermelon', 'orange', 'mangue', 'cherry', 'ananas', 'melon', 'pasta', 'tomatos', 'salade', 'pattate', 'Abdoul', 'Rachid', 'Souleymana', 'Ali', 'Marzouk', 'Farida', 'Khalifa', 'Nasifou', 'Said']\n"
     ]
    }
   ],
   "source": [
    "print(liste)"
   ]
  },
  {
   "cell_type": "code",
   "execution_count": 13,
   "metadata": {},
   "outputs": [
    {
     "data": {
      "text/plain": [
       "[(0, 'banana'),\n",
       " (1, 'apple'),\n",
       " (2, 'oignon'),\n",
       " (3, 'watermelon'),\n",
       " (4, 'orange'),\n",
       " (5, 'mangue'),\n",
       " (6, 'cherry'),\n",
       " (7, 'ananas'),\n",
       " (8, 'melon'),\n",
       " (9, 'pasta'),\n",
       " (10, 'tomatos'),\n",
       " (11, 'salade'),\n",
       " (12, 'pattate'),\n",
       " (13, 'Abdoul'),\n",
       " (14, 'Rachid'),\n",
       " (15, 'Souleymana'),\n",
       " (16, 'Ali'),\n",
       " (17, 'Marzouk'),\n",
       " (18, 'Farida'),\n",
       " (19, 'Khalifa'),\n",
       " (20, 'Nasifou'),\n",
       " (21, 'Said')]"
      ]
     },
     "execution_count": 13,
     "metadata": {},
     "output_type": "execute_result"
    }
   ],
   "source": [
    "tuple_idx_item = [(idx, item) for idx, item in enumerate(liste)]\n",
    "tuple_idx_item"
   ]
  },
  {
   "cell_type": "code",
   "execution_count": 14,
   "metadata": {},
   "outputs": [],
   "source": [
    "liste.extend(('Niger', 'France', 'Maroc'))"
   ]
  },
  {
   "cell_type": "code",
   "execution_count": 15,
   "metadata": {},
   "outputs": [
    {
     "data": {
      "text/plain": [
       "[(0, 'banana'),\n",
       " (1, 'apple'),\n",
       " (2, 'oignon'),\n",
       " (3, 'watermelon'),\n",
       " (4, 'orange'),\n",
       " (5, 'mangue'),\n",
       " (6, 'cherry'),\n",
       " (7, 'ananas'),\n",
       " (8, 'melon'),\n",
       " (9, 'pasta'),\n",
       " (10, 'tomatos'),\n",
       " (11, 'salade'),\n",
       " (12, 'pattate'),\n",
       " (13, 'Abdoul'),\n",
       " (14, 'Rachid'),\n",
       " (15, 'Souleymana'),\n",
       " (16, 'Ali'),\n",
       " (17, 'Marzouk'),\n",
       " (18, 'Farida'),\n",
       " (19, 'Khalifa'),\n",
       " (20, 'Nasifou'),\n",
       " (21, 'Said'),\n",
       " (22, 'Niger'),\n",
       " (23, 'France'),\n",
       " (24, 'Maroc')]"
      ]
     },
     "execution_count": 15,
     "metadata": {},
     "output_type": "execute_result"
    }
   ],
   "source": [
    "tuple_idx_item = [(idx, item) for idx, item in enumerate(liste)]\n",
    "tuple_idx_item"
   ]
  },
  {
   "cell_type": "code",
   "execution_count": 16,
   "metadata": {},
   "outputs": [],
   "source": [
    "liste.remove('Maroc')"
   ]
  },
  {
   "cell_type": "code",
   "execution_count": 17,
   "metadata": {},
   "outputs": [
    {
     "data": {
      "text/plain": [
       "'France'"
      ]
     },
     "execution_count": 17,
     "metadata": {},
     "output_type": "execute_result"
    }
   ],
   "source": [
    "liste.pop(23)"
   ]
  },
  {
   "cell_type": "code",
   "execution_count": 18,
   "metadata": {},
   "outputs": [],
   "source": [
    "liste.extend(('France', 'Maroc'))"
   ]
  },
  {
   "cell_type": "code",
   "execution_count": 19,
   "metadata": {},
   "outputs": [],
   "source": [
    "rmv_item = liste.remove('Maroc')"
   ]
  },
  {
   "cell_type": "code",
   "execution_count": 21,
   "metadata": {},
   "outputs": [],
   "source": [
    "rmv_item"
   ]
  },
  {
   "cell_type": "code",
   "execution_count": 22,
   "metadata": {},
   "outputs": [],
   "source": [
    "rmv_item =liste.pop(23)"
   ]
  },
  {
   "cell_type": "code",
   "execution_count": 23,
   "metadata": {},
   "outputs": [
    {
     "data": {
      "text/plain": [
       "'France'"
      ]
     },
     "execution_count": 23,
     "metadata": {},
     "output_type": "execute_result"
    }
   ],
   "source": [
    "rmv_item\n"
   ]
  },
  {
   "cell_type": "code",
   "execution_count": 24,
   "metadata": {},
   "outputs": [
    {
     "data": {
      "text/plain": [
       "['banana',\n",
       " 'apple',\n",
       " 'oignon',\n",
       " 'watermelon',\n",
       " 'orange',\n",
       " 'mangue',\n",
       " 'cherry',\n",
       " 'ananas',\n",
       " 'melon',\n",
       " 'pasta',\n",
       " 'tomatos',\n",
       " 'salade',\n",
       " 'pattate',\n",
       " 'Abdoul',\n",
       " 'Rachid',\n",
       " 'Souleymana',\n",
       " 'Ali',\n",
       " 'Marzouk',\n",
       " 'Farida',\n",
       " 'Khalifa',\n",
       " 'Nasifou',\n",
       " 'Said',\n",
       " 'Niger']"
      ]
     },
     "execution_count": 24,
     "metadata": {},
     "output_type": "execute_result"
    }
   ],
   "source": [
    "liste\n"
   ]
  },
  {
   "cell_type": "code",
   "execution_count": 25,
   "metadata": {},
   "outputs": [
    {
     "data": {
      "text/plain": [
       "'Niger'"
      ]
     },
     "execution_count": 25,
     "metadata": {},
     "output_type": "execute_result"
    }
   ],
   "source": [
    "liste.pop()"
   ]
  },
  {
   "cell_type": "code",
   "execution_count": 26,
   "metadata": {},
   "outputs": [],
   "source": [
    "del liste[-1]"
   ]
  },
  {
   "cell_type": "code",
   "execution_count": 27,
   "metadata": {},
   "outputs": [],
   "source": [
    "new_liste.clear()"
   ]
  },
  {
   "cell_type": "code",
   "execution_count": 28,
   "metadata": {},
   "outputs": [
    {
     "data": {
      "text/plain": [
       "[]"
      ]
     },
     "execution_count": 28,
     "metadata": {},
     "output_type": "execute_result"
    }
   ],
   "source": [
    "new_liste"
   ]
  },
  {
   "cell_type": "code",
   "execution_count": 29,
   "metadata": {},
   "outputs": [
    {
     "name": "stdout",
     "output_type": "stream",
     "text": [
      "banana\n",
      "apple\n",
      "oignon\n",
      "watermelon\n",
      "orange\n",
      "mangue\n",
      "cherry\n",
      "ananas\n",
      "melon\n",
      "pasta\n",
      "tomatos\n",
      "salade\n",
      "pattate\n",
      "Abdoul\n",
      "Rachid\n",
      "Souleymana\n",
      "Ali\n",
      "Marzouk\n",
      "Farida\n",
      "Khalifa\n",
      "Nasifou\n"
     ]
    }
   ],
   "source": [
    "for item in liste:\n",
    "    print(item)"
   ]
  },
  {
   "cell_type": "code",
   "execution_count": 30,
   "metadata": {},
   "outputs": [
    {
     "name": "stdout",
     "output_type": "stream",
     "text": [
      "b\n",
      "a\n",
      "n\n",
      "a\n",
      "n\n",
      "a\n"
     ]
    }
   ],
   "source": [
    "for charactor in 'banana':\n",
    "    print(charactor)"
   ]
  },
  {
   "cell_type": "code",
   "execution_count": 31,
   "metadata": {},
   "outputs": [
    {
     "name": "stdout",
     "output_type": "stream",
     "text": [
      "banana\n",
      "apple\n",
      "oignon\n",
      "watermelon\n",
      "orange\n",
      "mangue\n",
      "cherry\n",
      "ananas\n",
      "melon\n",
      "pasta\n",
      "tomatos\n",
      "salade\n",
      "pattate\n",
      "Abdoul\n",
      "Souleymana\n",
      "Ali\n",
      "Marzouk\n",
      "Farida\n",
      "Khalifa\n",
      "Nasifou\n"
     ]
    }
   ],
   "source": [
    "for item in liste:\n",
    "    if item == 'Rachid':\n",
    "        continue\n",
    "    print(item)"
   ]
  },
  {
   "cell_type": "code",
   "execution_count": 32,
   "metadata": {},
   "outputs": [
    {
     "name": "stdout",
     "output_type": "stream",
     "text": [
      "banana\n",
      "apple\n",
      "oignon\n",
      "watermelon\n",
      "orange\n",
      "mangue\n",
      "cherry\n",
      "ananas\n",
      "melon\n",
      "pasta\n",
      "tomatos\n",
      "salade\n",
      "pattate\n",
      "Abdoul\n"
     ]
    }
   ],
   "source": [
    "for item in liste:\n",
    "    if item == 'Rachid':\n",
    "        break\n",
    "    print(item)"
   ]
  },
  {
   "cell_type": "code",
   "execution_count": 33,
   "metadata": {},
   "outputs": [
    {
     "name": "stdout",
     "output_type": "stream",
     "text": [
      "0\n",
      "1\n",
      "2\n",
      "3\n",
      "4\n",
      "5\n"
     ]
    }
   ],
   "source": [
    "for x in range(6):\n",
    "    print(x)"
   ]
  },
  {
   "cell_type": "code",
   "execution_count": 34,
   "metadata": {},
   "outputs": [
    {
     "name": "stdout",
     "output_type": "stream",
     "text": [
      "2\n",
      "3\n",
      "4\n",
      "5\n"
     ]
    }
   ],
   "source": [
    "for x in range(2, 6):\n",
    "    print(x)"
   ]
  },
  {
   "cell_type": "code",
   "execution_count": 35,
   "metadata": {},
   "outputs": [
    {
     "name": "stdout",
     "output_type": "stream",
     "text": [
      "2\n",
      "5\n",
      "8\n",
      "11\n",
      "14\n",
      "17\n",
      "20\n",
      "23\n",
      "26\n",
      "29\n"
     ]
    }
   ],
   "source": [
    "for x in range(2, 30, 3):\n",
    "    print(x)"
   ]
  },
  {
   "cell_type": "code",
   "execution_count": 36,
   "metadata": {},
   "outputs": [
    {
     "name": "stdout",
     "output_type": "stream",
     "text": [
      "0\n",
      "1\n",
      "2\n",
      "3\n",
      "4\n",
      "5\n",
      "Finally finished\n"
     ]
    }
   ],
   "source": [
    "for x in range(6):\n",
    "    print(x)\n",
    "else:\n",
    "    print('Finally finished')"
   ]
  },
  {
   "cell_type": "code",
   "execution_count": 37,
   "metadata": {},
   "outputs": [
    {
     "name": "stdout",
     "output_type": "stream",
     "text": [
      "('red', 'apple')\n",
      "('red', 'banana')\n",
      "('red', 'cherry')\n",
      "('big', 'apple')\n",
      "('big', 'banana')\n",
      "('big', 'cherry')\n",
      "('tasty', 'apple')\n",
      "('tasty', 'banana')\n",
      "('tasty', 'cherry')\n"
     ]
    }
   ],
   "source": [
    "adj = ['red', 'big', 'tasty']\n",
    "fruits = ['apple', 'banana', 'cherry']\n",
    "\n",
    "for x in adj:\n",
    "    for y in fruits:\n",
    "        print((x,y))"
   ]
  },
  {
   "cell_type": "code",
   "execution_count": 38,
   "metadata": {},
   "outputs": [
    {
     "name": "stdout",
     "output_type": "stream",
     "text": [
      "0\n",
      "1\n",
      "2\n",
      "3\n",
      "4\n",
      "5\n",
      "6\n",
      "7\n",
      "8\n",
      "9\n",
      "10\n",
      "11\n",
      "12\n",
      "13\n",
      "14\n",
      "15\n",
      "16\n",
      "17\n",
      "18\n",
      "19\n",
      "20\n"
     ]
    }
   ],
   "source": [
    "for i in range(len(liste)):\n",
    "    print(i)"
   ]
  },
  {
   "cell_type": "code",
   "execution_count": 39,
   "metadata": {},
   "outputs": [
    {
     "name": "stdout",
     "output_type": "stream",
     "text": [
      "banana\n",
      "apple\n",
      "oignon\n",
      "watermelon\n",
      "orange\n",
      "mangue\n",
      "cherry\n",
      "ananas\n",
      "melon\n",
      "pasta\n",
      "tomatos\n",
      "salade\n",
      "pattate\n",
      "Abdoul\n",
      "Rachid\n",
      "Souleymana\n",
      "Ali\n",
      "Marzouk\n",
      "Farida\n",
      "Khalifa\n",
      "Nasifou\n"
     ]
    }
   ],
   "source": [
    "for i in range(len(liste)):\n",
    "    print(liste[i])"
   ]
  },
  {
   "cell_type": "code",
   "execution_count": 40,
   "metadata": {},
   "outputs": [
    {
     "name": "stdout",
     "output_type": "stream",
     "text": [
      "banana\n",
      "apple\n",
      "oignon\n",
      "watermelon\n",
      "orange\n",
      "mangue\n",
      "cherry\n",
      "ananas\n",
      "melon\n",
      "pasta\n",
      "tomatos\n",
      "salade\n",
      "pattate\n",
      "Abdoul\n",
      "Rachid\n",
      "Souleymana\n",
      "Ali\n",
      "Marzouk\n",
      "Farida\n",
      "Khalifa\n",
      "Nasifou\n"
     ]
    }
   ],
   "source": [
    "i = 0\n",
    "while i < len(liste):\n",
    "    print(liste[i])\n",
    "    i +=1"
   ]
  },
  {
   "cell_type": "code",
   "execution_count": 41,
   "metadata": {},
   "outputs": [
    {
     "name": "stdout",
     "output_type": "stream",
     "text": [
      "banana\n",
      "apple\n",
      "oignon\n",
      "watermelon\n",
      "orange\n",
      "mangue\n",
      "cherry\n",
      "ananas\n",
      "melon\n",
      "pasta\n",
      "tomatos\n",
      "salade\n",
      "pattate\n",
      "Abdoul\n",
      "Rachid\n",
      "Souleymana\n",
      "Ali\n",
      "Marzouk\n",
      "Farida\n",
      "Khalifa\n",
      "Nasifou\n"
     ]
    },
    {
     "data": {
      "text/plain": [
       "[None,\n",
       " None,\n",
       " None,\n",
       " None,\n",
       " None,\n",
       " None,\n",
       " None,\n",
       " None,\n",
       " None,\n",
       " None,\n",
       " None,\n",
       " None,\n",
       " None,\n",
       " None,\n",
       " None,\n",
       " None,\n",
       " None,\n",
       " None,\n",
       " None,\n",
       " None,\n",
       " None]"
      ]
     },
     "execution_count": 41,
     "metadata": {},
     "output_type": "execute_result"
    }
   ],
   "source": [
    "[print(x) for x in liste]"
   ]
  },
  {
   "cell_type": "code",
   "execution_count": 42,
   "metadata": {},
   "outputs": [
    {
     "name": "stdout",
     "output_type": "stream",
     "text": [
      "['banana', 'apple', 'watermelon', 'orange', 'mangue', 'ananas', 'pasta', 'tomatos', 'salade', 'pattate', 'Rachid', 'Souleymana', 'Marzouk', 'Farida', 'Khalifa', 'Nasifou']\n"
     ]
    }
   ],
   "source": [
    "for x in liste:\n",
    "    if 'a' in x:\n",
    "        new_liste.append(x)\n",
    "\n",
    "print(new_liste)"
   ]
  },
  {
   "cell_type": "code",
   "execution_count": 43,
   "metadata": {},
   "outputs": [
    {
     "data": {
      "text/plain": [
       "[None, None, None, None, None, None, None, None]"
      ]
     },
     "execution_count": 43,
     "metadata": {},
     "output_type": "execute_result"
    }
   ],
   "source": [
    "new_second_list = []\n",
    "[new_second_list.append(x) for x in liste if 'n' in x]"
   ]
  },
  {
   "cell_type": "code",
   "execution_count": 44,
   "metadata": {},
   "outputs": [
    {
     "name": "stdout",
     "output_type": "stream",
     "text": [
      "['banana', 'oignon', 'watermelon', 'orange', 'mangue', 'ananas', 'melon', 'Souleymana']\n"
     ]
    }
   ],
   "source": [
    "print(new_second_list)"
   ]
  },
  {
   "cell_type": "code",
   "execution_count": 45,
   "metadata": {},
   "outputs": [
    {
     "data": {
      "text/plain": [
       "['banana',\n",
       " 'oignon',\n",
       " 'watermelon',\n",
       " 'orange',\n",
       " 'mangue',\n",
       " 'ananas',\n",
       " 'melon',\n",
       " 'Souleymana',\n",
       " 'BANANA',\n",
       " 'APPLE',\n",
       " 'OIGNON',\n",
       " 'WATERMELON',\n",
       " 'ORANGE',\n",
       " 'MANGUE',\n",
       " 'CHERRY',\n",
       " 'ANANAS',\n",
       " 'MELON',\n",
       " 'PASTA',\n",
       " 'TOMATOS',\n",
       " 'SALADE',\n",
       " 'PATTATE',\n",
       " 'ABDOUL',\n",
       " 'RACHID',\n",
       " 'SOULEYMANA',\n",
       " 'ALI',\n",
       " 'MARZOUK',\n",
       " 'FARIDA',\n",
       " 'KHALIFA',\n",
       " 'NASIFOU']"
      ]
     },
     "execution_count": 45,
     "metadata": {},
     "output_type": "execute_result"
    }
   ],
   "source": [
    "[new_second_list.append(x.upper()) for x in liste]\n",
    "new_second_list\n"
   ]
  },
  {
   "cell_type": "code",
   "execution_count": 46,
   "metadata": {},
   "outputs": [],
   "source": [
    "new_third_liste = [x if x != 'banana' else 'orange' for x in fruits]"
   ]
  },
  {
   "cell_type": "code",
   "execution_count": 53,
   "metadata": {},
   "outputs": [
    {
     "data": {
      "text/plain": [
       "['ABDOUL',\n",
       " 'ALI',\n",
       " 'ANANAS',\n",
       " 'APPLE',\n",
       " 'BANANA',\n",
       " 'CHERRY',\n",
       " 'FARIDA',\n",
       " 'KHALIFA',\n",
       " 'MANGUE',\n",
       " 'MARZOUK',\n",
       " 'MELON',\n",
       " 'NASIFOU',\n",
       " 'OIGNON',\n",
       " 'ORANGE',\n",
       " 'PASTA',\n",
       " 'PATTATE',\n",
       " 'RACHID',\n",
       " 'SALADE',\n",
       " 'SOULEYMANA',\n",
       " 'Souleymana',\n",
       " 'TOMATOS',\n",
       " 'WATERMELON',\n",
       " 'ananas',\n",
       " 'banana',\n",
       " 'mangue',\n",
       " 'melon',\n",
       " 'oignon',\n",
       " 'orange',\n",
       " 'watermelon']"
      ]
     },
     "execution_count": 53,
     "metadata": {},
     "output_type": "execute_result"
    }
   ],
   "source": [
    "new_second_list.sort()\n",
    "new_second_list"
   ]
  },
  {
   "cell_type": "code",
   "execution_count": 56,
   "metadata": {},
   "outputs": [
    {
     "name": "stdout",
     "output_type": "stream",
     "text": [
      "['cherry', 'banana', 'apple']\n"
     ]
    }
   ],
   "source": [
    "fruits.sort()\n",
    "fruits.reverse()\n",
    "print(fruits)"
   ]
  },
  {
   "cell_type": "code",
   "execution_count": 57,
   "metadata": {},
   "outputs": [],
   "source": [
    "list1 = ['a', 'b','c']\n",
    "list2 = [1, 2, 3]\n",
    "\n",
    "list3 = list1 + list2"
   ]
  },
  {
   "cell_type": "code",
   "execution_count": 58,
   "metadata": {},
   "outputs": [
    {
     "name": "stdout",
     "output_type": "stream",
     "text": [
      "['a', 'b', 'c', 1, 2, 3]\n"
     ]
    }
   ],
   "source": [
    "print(list3)"
   ]
  },
  {
   "cell_type": "code",
   "execution_count": 59,
   "metadata": {},
   "outputs": [],
   "source": [
    "list1.extend(list2)"
   ]
  },
  {
   "cell_type": "code",
   "execution_count": 60,
   "metadata": {},
   "outputs": [],
   "source": [
    "list1.extend(('1', '2', '3', '4', '5', '1', '1', '1', '1', '1', '1', '1', '1', '1', '1', '1', '1','1', '1', '1', '1'))"
   ]
  },
  {
   "cell_type": "code",
   "execution_count": 64,
   "metadata": {},
   "outputs": [
    {
     "data": {
      "text/plain": [
       "17"
      ]
     },
     "execution_count": 64,
     "metadata": {},
     "output_type": "execute_result"
    }
   ],
   "source": [
    "count_1 = list1.count('1')\n",
    "count_1"
   ]
  },
  {
   "cell_type": "code",
   "execution_count": 66,
   "metadata": {},
   "outputs": [
    {
     "data": {
      "text/plain": [
       "{'apple', 'banana', 'cherry'}"
      ]
     },
     "execution_count": 66,
     "metadata": {},
     "output_type": "execute_result"
    }
   ],
   "source": [
    "myset = {'apple', 'banana', 'cherry'}\n",
    "myset"
   ]
  },
  {
   "cell_type": "code",
   "execution_count": 67,
   "metadata": {},
   "outputs": [],
   "source": [
    "thisdict = {\n",
    "  \"brand\": \"Ford\",\n",
    "  \"electric\": False,\n",
    "  \"year\": 1964,\n",
    "  \"colors\": [\"red\", \"white\", \"blue\"]\n",
    "}"
   ]
  },
  {
   "cell_type": "code",
   "execution_count": 68,
   "metadata": {},
   "outputs": [
    {
     "name": "stdout",
     "output_type": "stream",
     "text": [
      "4\n"
     ]
    }
   ],
   "source": [
    "print(len(thisdict))"
   ]
  },
  {
   "cell_type": "code",
   "execution_count": 69,
   "metadata": {},
   "outputs": [
    {
     "name": "stdout",
     "output_type": "stream",
     "text": [
      "Ford\n"
     ]
    }
   ],
   "source": [
    "print(thisdict['brand'])"
   ]
  },
  {
   "cell_type": "code",
   "execution_count": 70,
   "metadata": {},
   "outputs": [],
   "source": [
    "this_dict = dict(brand = 'Ford', electric = False, year = 1998, corlors = ['red', 'white', 'blue'])"
   ]
  },
  {
   "cell_type": "code",
   "execution_count": 71,
   "metadata": {},
   "outputs": [
    {
     "data": {
      "text/plain": [
       "{'brand': 'Ford',\n",
       " 'electric': False,\n",
       " 'year': 1998,\n",
       " 'corlors': ['red', 'white', 'blue']}"
      ]
     },
     "execution_count": 71,
     "metadata": {},
     "output_type": "execute_result"
    }
   ],
   "source": [
    "this_dict"
   ]
  },
  {
   "cell_type": "code",
   "execution_count": 72,
   "metadata": {},
   "outputs": [
    {
     "data": {
      "text/plain": [
       "'Ford'"
      ]
     },
     "execution_count": 72,
     "metadata": {},
     "output_type": "execute_result"
    }
   ],
   "source": [
    "this_dict.get('brand')"
   ]
  },
  {
   "cell_type": "code",
   "execution_count": 76,
   "metadata": {},
   "outputs": [],
   "source": [
    "colors = this_dict.get('corlors')"
   ]
  },
  {
   "cell_type": "code",
   "execution_count": 77,
   "metadata": {},
   "outputs": [
    {
     "data": {
      "text/plain": [
       "['red', 'white', 'blue']"
      ]
     },
     "execution_count": 77,
     "metadata": {},
     "output_type": "execute_result"
    }
   ],
   "source": [
    "colors"
   ]
  },
  {
   "cell_type": "code",
   "execution_count": 79,
   "metadata": {},
   "outputs": [
    {
     "data": {
      "text/plain": [
       "dict_keys(['brand', 'electric', 'year', 'corlors'])"
      ]
     },
     "execution_count": 79,
     "metadata": {},
     "output_type": "execute_result"
    }
   ],
   "source": [
    "dict_keys = this_dict.keys()\n",
    "dict_keys"
   ]
  },
  {
   "cell_type": "code",
   "execution_count": 81,
   "metadata": {},
   "outputs": [
    {
     "name": "stdout",
     "output_type": "stream",
     "text": [
      "=\n"
     ]
    }
   ],
   "source": [
    "a = 10 \n",
    "b = 10\n",
    "\n",
    "print(a) if a<b else print('=') if a==b else print(b)"
   ]
  },
  {
   "cell_type": "code",
   "execution_count": 82,
   "metadata": {},
   "outputs": [
    {
     "name": "stdout",
     "output_type": "stream",
     "text": [
      "20\n"
     ]
    }
   ],
   "source": [
    "x = lambda a : a + 10\n",
    "\n",
    "print(x(10))"
   ]
  },
  {
   "cell_type": "code",
   "execution_count": 83,
   "metadata": {},
   "outputs": [
    {
     "name": "stdout",
     "output_type": "stream",
     "text": [
      "100\n"
     ]
    }
   ],
   "source": [
    "x = lambda a, b : a*b\n",
    "\n",
    "print(x(10, 10))"
   ]
  },
  {
   "cell_type": "code",
   "execution_count": 84,
   "metadata": {},
   "outputs": [],
   "source": [
    "def my_func(n):\n",
    "    return lambda a : a*n\n",
    "\n",
    "my_doubler = my_func(5)"
   ]
  },
  {
   "cell_type": "code",
   "execution_count": 85,
   "metadata": {},
   "outputs": [
    {
     "name": "stdout",
     "output_type": "stream",
     "text": [
      "50\n"
     ]
    }
   ],
   "source": [
    "print(my_doubler(10))"
   ]
  },
  {
   "cell_type": "code",
   "execution_count": 86,
   "metadata": {},
   "outputs": [],
   "source": [
    "class Person:\n",
    "    def __init__(self, name, age):\n",
    "        self.name = name\n",
    "        self.age = age\n",
    "\n",
    "p1 = Person('Abdoul', 25)"
   ]
  },
  {
   "cell_type": "code",
   "execution_count": 87,
   "metadata": {},
   "outputs": [
    {
     "name": "stdout",
     "output_type": "stream",
     "text": [
      "Abdoul\n",
      "25\n"
     ]
    }
   ],
   "source": [
    "print(p1.name)\n",
    "print(p1.age)"
   ]
  },
  {
   "cell_type": "code",
   "execution_count": 88,
   "metadata": {},
   "outputs": [
    {
     "name": "stdout",
     "output_type": "stream",
     "text": [
      "<__main__.Person object at 0x000001FE489339A0>\n"
     ]
    }
   ],
   "source": [
    "print(p1)"
   ]
  },
  {
   "cell_type": "code",
   "execution_count": 92,
   "metadata": {},
   "outputs": [],
   "source": [
    "class Student:\n",
    "    def __init__(self, name, age, department, year):\n",
    "        self.name = name\n",
    "        self.age = age\n",
    "        self.department = department\n",
    "        self.year = year\n",
    "\n",
    "    def __str__(self):\n",
    "        return f\"{self.name}---{self.age}---{self.department}---{self.year}\"\n",
    "    \n",
    "    def my_func(self):\n",
    "        print(f\"The student name is {self.name} and he is {self.age}, He studies {self.department} in {self.year}\")\n",
    "\n"
   ]
  },
  {
   "cell_type": "code",
   "execution_count": 94,
   "metadata": {},
   "outputs": [
    {
     "name": "stdout",
     "output_type": "stream",
     "text": [
      "Abdoul-Rachid Souleyamana---25---GE---2023\n",
      "The student name is Abdoul-Rachid Souleyamana and he is 25, He studies GE in 2023\n"
     ]
    }
   ],
   "source": [
    "Student1 = Student('Abdoul-Rachid Souleyamana', 25, 'GE', 2023)\n",
    "\n",
    "print(Student1)\n",
    "\n",
    "Student1.my_func()"
   ]
  },
  {
   "cell_type": "code",
   "execution_count": 95,
   "metadata": {},
   "outputs": [
    {
     "name": "stdout",
     "output_type": "stream",
     "text": [
      "John Doe\n"
     ]
    }
   ],
   "source": [
    "class Person:\n",
    "  def __init__(self, fname, lname):\n",
    "    self.firstname = fname\n",
    "    self.lastname = lname\n",
    "\n",
    "  def printname(self):\n",
    "    print(self.firstname, self.lastname)\n",
    "\n",
    "#Use the Person class to create an object, and then execute the printname method:\n",
    "\n",
    "x = Person(\"John\", \"Doe\")\n",
    "x.printname()\n",
    "\n",
    "\n"
   ]
  },
  {
   "cell_type": "code",
   "execution_count": 96,
   "metadata": {},
   "outputs": [],
   "source": [
    "class Student(Person):\n",
    "    def __init__(self, fname, lname, year):\n",
    "        super().__init__(fname, lname)\n",
    "        self.graduationyear = year\n",
    "\n",
    "    def welcome(self):\n",
    "        print(\"Welcome\", self.firstname, self.lastname, \"to the class of\", self.graduationyear)"
   ]
  },
  {
   "cell_type": "code",
   "execution_count": 98,
   "metadata": {},
   "outputs": [
    {
     "name": "stdout",
     "output_type": "stream",
     "text": [
      "Welcome Abdoul Rachid to the class of 2023\n"
     ]
    }
   ],
   "source": [
    "Student1 = Student('Abdoul', 'Rachid', 2023)\n",
    "\n",
    "Student1.welcome()"
   ]
  },
  {
   "cell_type": "code",
   "execution_count": 99,
   "metadata": {},
   "outputs": [
    {
     "data": {
      "text/plain": [
       "['MAXYEAR',\n",
       " 'MINYEAR',\n",
       " '__all__',\n",
       " '__builtins__',\n",
       " '__cached__',\n",
       " '__doc__',\n",
       " '__file__',\n",
       " '__loader__',\n",
       " '__name__',\n",
       " '__package__',\n",
       " '__spec__',\n",
       " 'date',\n",
       " 'datetime',\n",
       " 'datetime_CAPI',\n",
       " 'sys',\n",
       " 'time',\n",
       " 'timedelta',\n",
       " 'timezone',\n",
       " 'tzinfo']"
      ]
     },
     "execution_count": 99,
     "metadata": {},
     "output_type": "execute_result"
    }
   ],
   "source": [
    "import datetime\n",
    "\n",
    "dir(datetime)\n"
   ]
  },
  {
   "cell_type": "code",
   "execution_count": 100,
   "metadata": {},
   "outputs": [],
   "source": [
    "x = datetime.datetime.now()"
   ]
  },
  {
   "cell_type": "code",
   "execution_count": 101,
   "metadata": {},
   "outputs": [
    {
     "name": "stdout",
     "output_type": "stream",
     "text": [
      "2023-09-09 21:58:48.656167\n"
     ]
    }
   ],
   "source": [
    "print(x)"
   ]
  },
  {
   "cell_type": "code",
   "execution_count": 107,
   "metadata": {},
   "outputs": [
    {
     "name": "stdout",
     "output_type": "stream",
     "text": [
      "['Abdoul', 'Ali', 'Farida', 'Khalifa', 'Marzouk', 'Nasifou', 'Rachid', 'Souleymana', 'ananas', 'apple', 'banana', 'cherry', 'mangue', 'melon', 'oignon', 'orange', 'pasta', 'pattate', 'salade', 'tomatos', 'watermelon']\n",
      "The try execept bloc is executed\n"
     ]
    }
   ],
   "source": [
    "try:\n",
    "    print(liste)\n",
    "except Exception as e:\n",
    "    print('something went wrong : ', str(e))\n",
    "else:\n",
    "    print('The try execept bloc is executed')\n",
    "\n"
   ]
  },
  {
   "cell_type": "code",
   "execution_count": 109,
   "metadata": {},
   "outputs": [
    {
     "name": "stdout",
     "output_type": "stream",
     "text": [
      "Username is: Abdoul Rachid\n"
     ]
    }
   ],
   "source": [
    "username = input(\"Enter username:\")\n",
    "print(\"Username is: \" + username)"
   ]
  },
  {
   "cell_type": "code",
   "execution_count": 111,
   "metadata": {},
   "outputs": [],
   "source": [
    "def sum(a, b):\n",
    "    ''' \n",
    "    >>> sum(2, 3)\n",
    "    5\n",
    "    >>> sum(-6, 4)\n",
    "    -2\n",
    "    '''\n",
    "    return a+b"
   ]
  },
  {
   "cell_type": "code",
   "execution_count": 113,
   "metadata": {},
   "outputs": [
    {
     "data": {
      "text/plain": [
       "10"
      ]
     },
     "execution_count": 113,
     "metadata": {},
     "output_type": "execute_result"
    }
   ],
   "source": [
    "add = sum(3, 7)\n",
    "add"
   ]
  },
  {
   "cell_type": "code",
   "execution_count": 115,
   "metadata": {},
   "outputs": [
    {
     "data": {
      "text/plain": [
       "[(2019, 'Freshman'), (2020, 'Sophomore'), (2021, 'Junior'), (2022, 'Senior')]"
      ]
     },
     "execution_count": 115,
     "metadata": {},
     "output_type": "execute_result"
    }
   ],
   "source": [
    "college_years = ['Freshman', 'Sophomore', 'Junior', 'Senior']\n",
    "test = list(enumerate(college_years, 2019))\n",
    "test"
   ]
  },
  {
   "cell_type": "code",
   "execution_count": 117,
   "metadata": {},
   "outputs": [
    {
     "data": {
      "text/plain": [
       "[10, 20, 30, 40, 50]"
      ]
     },
     "execution_count": 117,
     "metadata": {},
     "output_type": "execute_result"
    }
   ],
   "source": [
    "data = [1, 2, 3, 4, 5]\n",
    "\n",
    "resulted_data = list(map(lambda x : x*10, data))\n",
    "\n",
    "resulted_data"
   ]
  },
  {
   "cell_type": "code",
   "execution_count": 122,
   "metadata": {},
   "outputs": [
    {
     "data": {
      "text/plain": [
       "[10, 20, 30, 40, 50, 60, 70, 80, 90, 100]"
      ]
     },
     "execution_count": 122,
     "metadata": {},
     "output_type": "execute_result"
    }
   ],
   "source": [
    "data = [1, 2, 3, 4, 5, 6, 7, 8, 9, 10]\n",
    "resul_data = list(map(lambda x : x*10, data))\n",
    "resul_data"
   ]
  },
  {
   "cell_type": "code",
   "execution_count": 124,
   "metadata": {},
   "outputs": [
    {
     "data": {
      "text/plain": [
       "2"
      ]
     },
     "execution_count": 124,
     "metadata": {},
     "output_type": "execute_result"
    }
   ],
   "source": [
    "\"Bonjour le jour\".count('jour') # commpte le nombre d'occurence dans une chaine de caratere "
   ]
  },
  {
   "cell_type": "code",
   "execution_count": 125,
   "metadata": {},
   "outputs": [
    {
     "data": {
      "text/plain": [
       "4"
      ]
     },
     "execution_count": 125,
     "metadata": {},
     "output_type": "execute_result"
    }
   ],
   "source": [
    "\"je suis assis à la maison aujourd'hui dimanche\".count('u')"
   ]
  },
  {
   "cell_type": "code",
   "execution_count": 126,
   "metadata": {},
   "outputs": [
    {
     "data": {
      "text/plain": [
       "True"
      ]
     },
     "execution_count": 126,
     "metadata": {},
     "output_type": "execute_result"
    }
   ],
   "source": [
    "\"image.png\".endswith('png')"
   ]
  },
  {
   "cell_type": "code",
   "execution_count": 127,
   "metadata": {},
   "outputs": [
    {
     "data": {
      "text/plain": [
       "True"
      ]
     },
     "execution_count": 127,
     "metadata": {},
     "output_type": "execute_result"
    }
   ],
   "source": [
    "\"image.png\".startswith('image')"
   ]
  },
  {
   "cell_type": "code",
   "execution_count": 129,
   "metadata": {},
   "outputs": [
    {
     "data": {
      "text/plain": [
       "'bonjourtoutlemonde'"
      ]
     },
     "execution_count": 129,
     "metadata": {},
     "output_type": "execute_result"
    }
   ],
   "source": [
    "chaine = 'bonjour' + 'tout' + 'le' + 'monde'\n",
    "chaine"
   ]
  },
  {
   "cell_type": "code",
   "execution_count": 130,
   "metadata": {},
   "outputs": [
    {
     "data": {
      "text/plain": [
       "'paul dit bonjour tout le monde par cette phrasebonjourtoutlemonde'"
      ]
     },
     "execution_count": 130,
     "metadata": {},
     "output_type": "execute_result"
    }
   ],
   "source": [
    "f\"paul dit bonjour tout le monde par cette phrase{chaine}\""
   ]
  },
  {
   "cell_type": "code",
   "execution_count": 131,
   "metadata": {},
   "outputs": [
    {
     "data": {
      "text/plain": [
       "'La multiplication de 10 par 15 nous donne 150'"
      ]
     },
     "execution_count": 131,
     "metadata": {},
     "output_type": "execute_result"
    }
   ],
   "source": [
    "a = 10\n",
    "b = 15 \n",
    "f\"La multiplication de {a} par {b} nous donne {a*b}\""
   ]
  },
  {
   "cell_type": "code",
   "execution_count": 132,
   "metadata": {},
   "outputs": [
    {
     "name": "stdout",
     "output_type": "stream",
     "text": [
      "mon nom est Abdoul, mon prenom est Rachid et mon age est 26\n"
     ]
    }
   ],
   "source": [
    "age = 26\n",
    "nom = 'Abdoul'\n",
    "prenom = 'Rachid'\n",
    "\n",
    "print('mon nom est {}, mon prenom est {} et mon age est {}'.format(nom, prenom, age))"
   ]
  },
  {
   "cell_type": "code",
   "execution_count": 133,
   "metadata": {},
   "outputs": [
    {
     "name": "stdout",
     "output_type": "stream",
     "text": [
      "j'ai 26 ans, 26 ce n'est pas trés agé\n"
     ]
    }
   ],
   "source": [
    "print(\"j'ai {0} ans, {0} ce n'est pas trés agé\".format(age))"
   ]
  },
  {
   "cell_type": "code",
   "execution_count": 139,
   "metadata": {},
   "outputs": [
    {
     "name": "stdout",
     "output_type": "stream",
     "text": [
      "1\n"
     ]
    }
   ],
   "source": [
    "import random\n",
    "\n",
    "r = random.randint(0, 1)\n",
    "print(r)"
   ]
  },
  {
   "cell_type": "code",
   "execution_count": 147,
   "metadata": {},
   "outputs": [
    {
     "name": "stdout",
     "output_type": "stream",
     "text": [
      "0.5178075708788993\n"
     ]
    }
   ],
   "source": [
    "u = random.uniform(0, 1)\n",
    "print(u)"
   ]
  },
  {
   "cell_type": "code",
   "execution_count": 149,
   "metadata": {},
   "outputs": [
    {
     "data": {
      "text/plain": [
       "'user//abdoul//rachcid//ali'"
      ]
     },
     "execution_count": 149,
     "metadata": {},
     "output_type": "execute_result"
    }
   ],
   "source": [
    "chemin = r'user//abdoul//rachcid//ali'\n",
    "chemin"
   ]
  },
  {
   "cell_type": "code",
   "execution_count": 1,
   "metadata": {},
   "outputs": [
    {
     "name": "stdout",
     "output_type": "stream",
     "text": [
      "version 2\n"
     ]
    }
   ],
   "source": [
    "print('version 2')"
   ]
  },
  {
   "cell_type": "code",
   "execution_count": null,
   "metadata": {},
   "outputs": [],
   "source": []
  }
 ],
 "metadata": {
  "kernelspec": {
   "display_name": "Python 3",
   "language": "python",
   "name": "python3"
  },
  "language_info": {
   "codemirror_mode": {
    "name": "ipython",
    "version": 3
   },
   "file_extension": ".py",
   "mimetype": "text/x-python",
   "name": "python",
   "nbconvert_exporter": "python",
   "pygments_lexer": "ipython3",
   "version": "3.10.4"
  },
  "orig_nbformat": 4
 },
 "nbformat": 4,
 "nbformat_minor": 2
}
